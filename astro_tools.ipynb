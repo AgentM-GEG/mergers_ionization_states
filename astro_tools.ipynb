{
 "cells": [
  {
   "cell_type": "markdown",
   "id": "d8de0320-6621-46ee-b810-efb56bce81b8",
   "metadata": {},
   "source": [
    "# Astro Tools"
   ]
  },
  {
   "cell_type": "markdown",
   "id": "05179376-300a-484a-a538-7276100a581e",
   "metadata": {},
   "source": [
    "Here we write definitions and test functions used for the project "
   ]
  },
  {
   "cell_type": "markdown",
   "id": "2fa6f19a-b5a3-4e9f-85fc-6a6564464bc9",
   "metadata": {},
   "source": [
    "## Imports"
   ]
  },
  {
   "cell_type": "code",
   "execution_count": 1,
   "id": "c2872067-6e59-4ee7-b855-9e6988d9cf31",
   "metadata": {},
   "outputs": [],
   "source": [
    "import numpy as np\n",
    "from astropy.io import fits, ascii\n",
    "import astropy.units as u\n",
    "from astropy.table import Table\n",
    "from astropy.wcs import WCS\n",
    "import matplotlib.pyplot as plt\n",
    "import matplotlib.cm as mcm\n",
    "import sys \n",
    "\n",
    "%matplotlib inline"
   ]
  },
  {
   "cell_type": "markdown",
   "id": "ff45fc97-e51c-4551-901b-9986973c059f",
   "metadata": {},
   "source": [
    "## Definitions"
   ]
  },
  {
   "cell_type": "markdown",
   "id": "5d0844bd-3de4-4ea5-9917-3533ab222f50",
   "metadata": {},
   "source": [
    "### Vaccuum rest wavelengths of spectral lines used here"
   ]
  },
  {
   "cell_type": "code",
   "execution_count": 2,
   "id": "7cb92dcb-4632-43cc-8d42-a3de8e1b4e15",
   "metadata": {},
   "outputs": [],
   "source": [
    "l_ha = 6564.614*u.Angstrom\n",
    "l_hb = 4862.721*u.Angstrom\n",
    "l_O3_4960 = 4960.295*u.Angstrom\n",
    "l_O3_5008 = 5008.239*u.Angstrom\n",
    "l_O2_3727 = 3727.092*u.Angstrom\n",
    "l_O2_3729 = 3729.875*u.Angstrom"
   ]
  },
  {
   "cell_type": "markdown",
   "id": "12625c9c-bee1-4f23-86cc-a63b684db07b",
   "metadata": {},
   "source": [
    "## Functions"
   ]
  },
  {
   "cell_type": "markdown",
   "id": "64de9a6e-1a70-4ab8-b133-0e71a30badd6",
   "metadata": {},
   "source": [
    "### Cardelli dust correction"
   ]
  },
  {
   "cell_type": "markdown",
   "id": "754e2189-4fed-4184-8edd-53d98642ea00",
   "metadata": {},
   "source": [
    "\n",
    "The extinction  law is given by:  \n",
    "$\\frac{A_\\lambda}{A_V} = a(x) + \\frac{b(x)}{R_v}$  \n",
    "Where we assume that $R_v=3.1$  \n",
    "\n",
    "We also have $k(\\lambda)=R_V\\,\\frac{A_\\lambda}{A_V} = R_v \\cdot a(x) + b(x)$. \n",
    "\n",
    "Observed fluxed can be corrected for dust attenuation using:  \n",
    "$f_{\\lambda,int} = f_{\\lambda,obs} \\cdot 10^{0.4*k(\\lambda)}$\n",
    "\n",
    "**From Cardelli et al. 1989:**  \n",
    "$x  \\equiv 1/\\lambda$, and with $y  \\equiv (x - 1.82)$, for $x \\in$ [1.1 $\\mu$m$^{-1}$ -3.3 $\\mu$m$^{-1}$]:   \n",
    "$a(x) = 1 + 0.17699\\,y - 0.50447\\,y^2 - 0.02427\\,y^3 + 0.72085\\,y^4+ 0.01979\\,y^5 - 0.77530\\,y^6 + 0.32999\\,y^7 $  \n",
    "$b(x) = 1.41338\\,y + 2.28305\\,y^2 + 1.07233\\,y^3 - 5.38434\\,y^4 - 0.62251\\,y^5 + 5.30260\\,y^6 - 2.09002\\,y^7 $\n"
   ]
  },
  {
   "cell_type": "code",
   "execution_count": 3,
   "id": "f980be38-c7fb-4ab2-8b46-7ec21828811d",
   "metadata": {},
   "outputs": [],
   "source": [
    "def k_Cardelli(l,Rv=3.1):\n",
    "  try:\n",
    "    l=l.to(u.micrometer)\n",
    "  except:\n",
    "    print('Wavelength unit invalid')\n",
    "  if (l<1/1.1*u.micrometer) & (l>1/3.3*u.micrometer):\n",
    "    x = 1/l.value\n",
    "    y = x-1.82\n",
    "    a = 1 + 0.17699*y - 0.50447*y**2 - 0.02427*y**3 + 0.72085*y**4+ 0.01979*y**5 - 0.77530*y**6 + 0.32999*y**7\n",
    "    b = 1.41338*y + 2.28305*y**2 + 1.07233*y**3 - 5.38434*y**4 - 0.62251*y**5 + 5.30260*y**6 - 2.09002*y**7\n",
    "    k = Rv * a + b\n",
    "  else:\n",
    "    print('Wavelength outside the optical range, function not adapted.')\n",
    "  return(k)"
   ]
  },
  {
   "cell_type": "code",
   "execution_count": 4,
   "id": "c8a0dec5-f898-41e0-a927-386733ba5ed5",
   "metadata": {},
   "outputs": [
    {
     "name": "stdout",
     "output_type": "stream",
     "text": [
      "$k(\\lambda)$ at H$\\alpha$ wavelength: 2.5342494600750585\n",
      "$k(\\lambda)$ at H$\\beta$ wavelength: 3.607546489739622\n"
     ]
    }
   ],
   "source": [
    "l_Ha =  6564.6 *u.Angstrom # Halpha vacuum wavelength \n",
    "k_Ha = k_Cardelli(l_Ha)\n",
    "print(r'$k(\\lambda)$ at H$\\alpha$ wavelength:', k_Ha)\n",
    "\n",
    "l_Hb =  4862.721 *u.Angstrom # Hbeta vacuum wavelength \n",
    "k_Hb = k_Cardelli(l_Hb)\n",
    "print(r'$k(\\lambda)$ at H$\\beta$ wavelength:', k_Hb)"
   ]
  },
  {
   "cell_type": "markdown",
   "id": "848fcc79-851b-4f16-8b1b-33270038fa14",
   "metadata": {},
   "source": [
    "### Calculate the color excess based on Halpa+ Hbta fluxes"
   ]
  },
  {
   "cell_type": "markdown",
   "id": "6f1cb38b",
   "metadata": {},
   "source": [
    "$f_{int} = f_{obs} \\cdot 10^{0.4 \\cdot E(B-V)\\cdot k(\\lambda)}$  \n",
    "So,using:  \n",
    "$f_{H\\alpha,int} = f_{H\\alpha,obs} \\cdot 10^{0.4 \\cdot E(B-V)\\cdot k(H\\alpha)}$ and  \n",
    "$f_{H\\beta,int} = f_{H\\beta,obs} \\cdot 10^{0.4 \\cdot E(B-V)\\cdot k(H\\beta)}$  \n",
    "One gets to:\n",
    "\n",
    "$$E(B-V) = \\frac{-2.5}{k(H\\alpha)-k(H\\beta)} * \\log(\\frac{fH\\alpha/fH\\beta_{obs}}{fH\\alpha/fH\\beta_{int}})$$  \n",
    "\n",
    "From Osterbrock+2006 (2nd edition), looking at Case B recombination lines in the low-density limit i.e. $n_e< 10^4 \\rm{cm}^{-3}$ and assuming T=1e4K (see Table 4.2, p.73), one finds that: $\\frac{fH\\alpha}{fH\\beta}_{int}=2.87$.\n",
    "\n"
   ]
  },
  {
   "cell_type": "code",
   "execution_count": 5,
   "id": "1e7926fa-24d1-41c8-9b4e-25b8a0be220a",
   "metadata": {},
   "outputs": [],
   "source": [
    "def EBV(fHa,fHb,ha_hb_int=2.87):\n",
    "  # Intrinsic Halpha to Hbeta ratio ha_hb_int=2.86 obtained for ne=100cm-3 and T=1e4K, but verify this is correct\n",
    "  l_Ha =  6564.6 *u.Angstrom # Halpha vacuum wavelength \n",
    "  l_Hb =  4862.721 *u.Angstrom # Hbeta vacuum wavelength \n",
    "  ebv = -2.5/(k_Cardelli(l_Ha)-k_Cardelli(l_Hb)) * np.log10(fHa/fHb/ha_hb_int)\n",
    "  return(ebv)\n"
   ]
  },
  {
   "cell_type": "markdown",
   "id": "25961271-8875-4838-801b-539ffea58e6f",
   "metadata": {},
   "source": [
    "### Operate dust correction"
   ]
  },
  {
   "cell_type": "markdown",
   "id": "ab7acaa7-0e84-4c0c-8b12-b35b7de600e3",
   "metadata": {},
   "source": [
    "$f_{int} = f_{obs} \\cdot 10^{0.4 \\cdot E(B-V)\\cdot k(\\lambda)}$"
   ]
  },
  {
   "cell_type": "code",
   "execution_count": 6,
   "id": "48988fce-0a5c-4b19-b99b-a1a8d2e6cb36",
   "metadata": {},
   "outputs": [],
   "source": [
    "def dust_corr_factor(l,ebv):\n",
    "  kl =  k_Cardelli(l)\n",
    "  return(10**(0.4*ebv*kl))"
   ]
  },
  {
   "cell_type": "code",
   "execution_count": 7,
   "id": "a749fce1-d927-4595-af1b-40b9b1fee974",
   "metadata": {},
   "outputs": [
    {
     "name": "stdout",
     "output_type": "stream",
     "text": [
      "2.0142340588222347\n",
      "2.709602465264213\n"
     ]
    }
   ],
   "source": [
    "print(dust_corr_factor(l_Ha,ebv=0.3))\n",
    "print(dust_corr_factor(l_Hb,ebv=0.3))"
   ]
  },
  {
   "cell_type": "markdown",
   "id": "a02d4eb5-5433-44e2-a9fe-a5cac4457842",
   "metadata": {},
   "source": [
    "## O32 definitions according to different reference papers"
   ]
  },
  {
   "cell_type": "code",
   "execution_count": 8,
   "id": "ee9cc48b-6c7c-4864-b037-f70b06504ef0",
   "metadata": {},
   "outputs": [],
   "source": [
    "def O32_I18(O3_5007,O2_3727):\n",
    "  # Definition given in Izotov et al. 2018\n",
    "  return(O3_5007/O2_3727) \n",
    "\n",
    "def O32_F22(O3_5007,O2_3726,O2_3729):\n",
    "  # Definition given in Flury et al. 2022\n",
    "  return(O3_5007/(O2_3726+O2_3729)) \n",
    "\n",
    "def O32_P22(O3_4959,O3_5008,O2_3726,O2_3729):\n",
    "  # Definition given in Papovich et al. 2022\n",
    "  return((O3_4959+O3_5008)/(O2_3726+O2_3729)) "
   ]
  },
  {
   "cell_type": "code",
   "execution_count": null,
   "id": "4064de17-8dde-4d27-8eb0-bd4c0ae51c95",
   "metadata": {},
   "outputs": [],
   "source": []
  }
 ],
 "metadata": {
  "kernelspec": {
   "display_name": "Python 3 (ipykernel)",
   "language": "python",
   "name": "python3"
  },
  "language_info": {
   "codemirror_mode": {
    "name": "ipython",
    "version": 3
   },
   "file_extension": ".py",
   "mimetype": "text/x-python",
   "name": "python",
   "nbconvert_exporter": "python",
   "pygments_lexer": "ipython3",
   "version": "3.12.3"
  }
 },
 "nbformat": 4,
 "nbformat_minor": 5
}
