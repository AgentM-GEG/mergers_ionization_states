{
 "cells": [
  {
   "cell_type": "code",
   "execution_count": 1,
   "id": "a06434c4",
   "metadata": {},
   "outputs": [],
   "source": [
    "from astropy.io import fits, ascii\n",
    "import astropy.units as u\n",
    "from astropy.coordinates import SkyCoord\n",
    "import matplotlib.pyplot as plt\n",
    "from astropy.cosmology import Planck18\n",
    "import numpy as np\n",
    "import tqdm\n",
    "from astropy.coordinates import SpectralCoord\n",
    "from astropy.table import Table"
   ]
  },
  {
   "cell_type": "code",
   "execution_count": 2,
   "id": "2845fe50",
   "metadata": {},
   "outputs": [
    {
     "name": "stderr",
     "output_type": "stream",
     "text": [
      "/tmp/ipykernel_404224/3482134323.py:6: RuntimeWarning: invalid value encountered in true_divide\n",
      "  primary_catalog = mass_cut[np.where((mass_cut['oiii_5007_flux']/mass_cut['oiii_5007_flux_err']>=3)\n",
      "/tmp/ipykernel_404224/3482134323.py:7: RuntimeWarning: invalid value encountered in true_divide\n",
      "  & ((mass_cut['oii_3726_flux']/mass_cut['oii_3726_flux_err']>=3)))]\n"
     ]
    }
   ],
   "source": [
    "catalog = ascii.read('/home/manth145/data/Merger_Ionization_State/SDSS_DR17_Matched_Information.csv', format='csv')\n",
    "cleaned_catalog = catalog[np.where((catalog['clean']==1) & (catalog['type']==3))]\n",
    "redshift_cut = cleaned_catalog[np.where((cleaned_catalog['z']>=0.01) & (cleaned_catalog['z']<=0.055))]\n",
    "mass_cut = redshift_cut[np.where(redshift_cut['logMass']>=8.5)]\n",
    "\n",
    "primary_catalog = mass_cut[np.where((mass_cut['oiii_5007_flux']/mass_cut['oiii_5007_flux_err']>=3) \n",
    "                                    & ((mass_cut['oii_3726_flux']/mass_cut['oii_3726_flux_err']>=3)))]\n",
    "secondary_catalog = redshift_cut[np.where(redshift_cut['logMass']>=8)]\n",
    "\n",
    "secondary_coords_array = SkyCoord(secondary_catalog['ra'], secondary_catalog['dec'], unit=u.deg)"
   ]
  },
  {
   "cell_type": "code",
   "execution_count": 3,
   "id": "ae5556ce",
   "metadata": {},
   "outputs": [],
   "source": [
    "pair_catalog = Table(names=['primary_ObjID', 'secondary_ObjID', 'primary_z', 'secondary_z', 'proj_sep', 'rel_velocity', 'mass_ratio'],\n",
    "                    dtype=[int, int, float, float, float, float, float])"
   ]
  },
  {
   "cell_type": "code",
   "execution_count": 4,
   "id": "0b0bbb48",
   "metadata": {},
   "outputs": [
    {
     "name": "stderr",
     "output_type": "stream",
     "text": [
      "100%|███████████████████████████████████████████████████████████████████████████████████████████████████████████████████████████| 52700/52700 [06:03<00:00, 145.03it/s]\n"
     ]
    }
   ],
   "source": [
    "for each_primary in tqdm.tqdm(primary_catalog):\n",
    "    coords_primary = SkyCoord(each_primary['ra']*u.deg, each_primary['dec']*u.deg, frame='icrs')\n",
    "    coord_array_primary = SkyCoord([each_primary['ra']*u.deg], [each_primary['dec']*u.deg], frame='icrs')\n",
    "    spec_coord_primary = SpectralCoord(4000, u.Angstrom, redshift=each_primary['z'])\n",
    "    _, specific_search_objects,_,_ = secondary_coords_array.search_around_sky(coord_array_primary, seplimit=12*u.arcmin)\n",
    "    for each_secondary in secondary_catalog[specific_search_objects]:\n",
    "        if (each_primary['ObjID'] != each_secondary['ObjID']) and (each_primary['logMass']>=each_secondary['logMass']):\n",
    "            coords_secondary = SkyCoord(each_secondary['ra']*u.deg, each_secondary['dec']*u.deg, frame='icrs')\n",
    "            spec_coord_secondary = SpectralCoord(4000, u.Angstrom, redshift=each_secondary['z'])\n",
    "            sep = coords_primary.separation(coords_secondary).arcsecond\n",
    "            scale = Planck18.kpc_comoving_per_arcmin(each_primary['z']).value/60.0\n",
    "            proj_sep = sep * scale\n",
    "            rel_velocity = np.abs(spec_coord_primary.radial_velocity.value - spec_coord_secondary.radial_velocity.value)\n",
    "            mass_ratio = each_primary['logMass'] - each_secondary['logMass']\n",
    "            if proj_sep <=150 and rel_velocity<=1000:\n",
    "                pair_catalog.add_row([each_primary['ObjID'], each_secondary['ObjID'], \n",
    "                                      each_primary['z'], each_secondary['z'], proj_sep, rel_velocity, mass_ratio])\n",
    "            \n",
    "#     break"
   ]
  },
  {
   "cell_type": "code",
   "execution_count": 5,
   "id": "6edea758",
   "metadata": {},
   "outputs": [],
   "source": [
    "ascii.write(pair_catalog, 'pair_catalog.csv', format='csv', overwrite=True)"
   ]
  },
  {
   "cell_type": "code",
   "execution_count": 8,
   "id": "211acfd5",
   "metadata": {},
   "outputs": [],
   "source": [
    "secondary_coords = SkyCoord(secondary_catalog['ra'], secondary_catalog['dec'], unit=u.deg)"
   ]
  },
  {
   "cell_type": "code",
   "execution_count": 16,
   "id": "3577be46",
   "metadata": {},
   "outputs": [
    {
     "data": {
      "text/plain": [
       "<SkyCoord (ICRS): (ra, dec) in deg\n",
       "    [(229.95682791, 7.81281151), (230.02044927, 7.82496405),\n",
       "     (230.07385071, 7.7345885 ), ..., (229.67020891, 7.82983421),\n",
       "     (229.71875656, 7.80551449), (229.77133456, 7.816241  )]>"
      ]
     },
     "execution_count": 16,
     "metadata": {},
     "output_type": "execute_result"
    }
   ],
   "source": [
    "secondary_coords"
   ]
  },
  {
   "cell_type": "code",
   "execution_count": 17,
   "id": "1e432942",
   "metadata": {},
   "outputs": [
    {
     "data": {
      "text/plain": [
       "<SkyCoord (ICRS): (ra, dec) in deg\n",
       "    (229.95682791, 7.81281151)>"
      ]
     },
     "execution_count": 17,
     "metadata": {},
     "output_type": "execute_result"
    }
   ],
   "source": [
    "coords_primary"
   ]
  },
  {
   "cell_type": "code",
   "execution_count": 18,
   "id": "ac04ac98",
   "metadata": {},
   "outputs": [
    {
     "data": {
      "text/plain": [
       "<SkyCoord (ICRS): (ra, dec) in deg\n",
       "    [(229.95682791, 7.81281151)]>"
      ]
     },
     "execution_count": 18,
     "metadata": {},
     "output_type": "execute_result"
    }
   ],
   "source": []
  },
  {
   "cell_type": "code",
   "execution_count": 19,
   "id": "886790f5",
   "metadata": {},
   "outputs": [],
   "source": [
    "something = secondary_coords.search_around_sky(SkyCoord([each_primary['ra']*u.deg], [each_primary['dec']*u.deg], frame='icrs'), seplimit=12*u.arcmin)"
   ]
  },
  {
   "cell_type": "code",
   "execution_count": 29,
   "id": "0377f22e",
   "metadata": {},
   "outputs": [
    {
     "data": {
      "text/html": [
       "<div><i>Table length=10</i>\n",
       "<table id=\"table140180946173280\" class=\"table-striped table-bordered table-condensed\">\n",
       "<thead><tr><th>modelMag_u</th><th>modelMag_g</th><th>modelMag_r</th><th>modelMag_i</th><th>modelMag_z</th><th>ra</th><th>dec</th><th>z</th><th>ObjID</th><th>mode</th><th>type</th><th>clean</th><th>specObjID</th><th>Flux_OIII_4958</th><th>Flux_OIII_4958_Err</th><th>FLux_OIII_5006</th><th>FLux_OIII_5006_Err</th><th>Flux_OII_3726</th><th>Flux_OII_3726_Err</th><th>Flux_OII_3728</th><th>Flux_OII_3728_Err</th><th>oiii_4959_flux</th><th>oiii_4959_flux_err</th><th>oiii_5007_flux</th><th>oiii_5007_flux_err</th><th>oii_3729_flux</th><th>oii_3729_flux_err</th><th>oii_3726_flux</th><th>oii_3726_flux_err</th><th>logMass</th><th>metallicity</th><th>age</th><th>ssfr</th><th>Column1</th><th>minlogMass</th><th>maxLogMass</th><th>SFR</th><th>minSFR</th><th>maxSFR</th><th>Column2</th></tr></thead>\n",
       "<thead><tr><th>float64</th><th>float64</th><th>float64</th><th>float64</th><th>float64</th><th>float64</th><th>float64</th><th>float64</th><th>int64</th><th>int64</th><th>int64</th><th>int64</th><th>int64</th><th>float64</th><th>float64</th><th>float64</th><th>float64</th><th>float64</th><th>float64</th><th>float64</th><th>float64</th><th>float64</th><th>float64</th><th>float64</th><th>float64</th><th>float64</th><th>float64</th><th>float64</th><th>float64</th><th>float64</th><th>float64</th><th>float64</th><th>float64</th><th>float64</th><th>float64</th><th>float64</th><th>float64</th><th>float64</th><th>float64</th><th>float64</th></tr></thead>\n",
       "<tr><td>18.42497</td><td>16.46613</td><td>15.56528</td><td>15.14275</td><td>14.7951</td><td>229.956827905323</td><td>7.81281151181592</td><td>0.0425399</td><td>1237662197747745143</td><td>1</td><td>3</td><td>1</td><td>2046998256977733632</td><td>15.1694</td><td>5.202966</td><td>43.34115</td><td>14.86562</td><td>162.7156</td><td>8668.07</td><td>83.20232</td><td>12623.88</td><td>2.195039</td><td>3.944313</td><td>20.52398</td><td>4.17063</td><td>8.500624</td><td>6.295256</td><td>23.5517</td><td>6.658473</td><td>10.6245435100394</td><td>0.00769999995827675</td><td>3.41003704071045</td><td>-3.35963487625122</td><td>10.49</td><td>10.44</td><td>10.82</td><td>0.0</td><td>0.0</td><td>0.1</td><td>0.04</td></tr>\n",
       "<tr><td>18.42605</td><td>16.77179</td><td>15.95624</td><td>15.55291</td><td>15.22884</td><td>230.020449266655</td><td>7.8249640540335</td><td>0.04858921</td><td>1237662197747810509</td><td>1</td><td>3</td><td>1</td><td>2047008977216104448</td><td>2.54</td><td>3.480551</td><td>7.257142</td><td>9.944433</td><td>32.70702</td><td>14.09445</td><td>28.81954</td><td>14.82691</td><td>4.886132</td><td>3.886356</td><td>8.983654</td><td>3.882987</td><td>14.52591</td><td>6.793278</td><td>16.43024</td><td>7.012192</td><td>10.527184246644</td><td>0.00769999995827675</td><td>3.50055408477783</td><td>-1.64312648773193</td><td>10.3</td><td>9.87</td><td>10.3</td><td>0.5</td><td>0.0</td><td>0.5</td><td>0.04</td></tr>\n",
       "<tr><td>18.32344</td><td>16.41611</td><td>15.56927</td><td>15.17142</td><td>14.83763</td><td>230.073850709502</td><td>7.73458849981151</td><td>0.04826854</td><td>1237662197747810581</td><td>1</td><td>3</td><td>1</td><td>2047010626483546112</td><td>19.41872</td><td>22.97698</td><td>55.48206</td><td>65.64853</td><td>18.42138</td><td>24.8859</td><td>63.67159</td><td>96.90556</td><td>-2.144605</td><td>4.111876</td><td>-1.197808</td><td>4.011215</td><td>4.013726</td><td>7.089595</td><td>-7.487408</td><td>6.840191</td><td>10.6211549418894</td><td>0.00769999995827675</td><td>2.30776882171631</td><td>-4.74274015426636</td><td>10.48</td><td>10.4</td><td>10.82</td><td>0.0</td><td>0.0</td><td>0.0</td><td>0.04</td></tr>\n",
       "<tr><td>19.23968</td><td>17.50391</td><td>16.67721</td><td>16.28032</td><td>15.96635</td><td>230.12442382008</td><td>7.74330536885284</td><td>0.04342559</td><td>1237662197747876094</td><td>1</td><td>3</td><td>1</td><td>2047008702338197504</td><td>2.317399</td><td>3.073234</td><td>6.621141</td><td>8.780669</td><td>6.759706</td><td>0.0</td><td>20.28467</td><td>15.74386</td><td>0.495332</td><td>2.124155</td><td>3.201239</td><td>2.135891</td><td>2.677525</td><td>3.586457</td><td>-7.045466</td><td>3.395661</td><td>10.0623540645977</td><td>0.00769999995827675</td><td>2.24202561378479</td><td>-3.40160775184631</td><td>10.05</td><td>9.91</td><td>10.3</td><td>0.0</td><td>0.0</td><td>0.1</td><td>0.02</td></tr>\n",
       "<tr><td>19.383</td><td>17.76669</td><td>17.02072</td><td>16.67171</td><td>16.38346</td><td>229.979520387313</td><td>7.8848999384746</td><td>0.04368504</td><td>1237662238559633634</td><td>1</td><td>3</td><td>1</td><td>2047007602826569728</td><td>0.8643174</td><td>3.35695</td><td>2.469478</td><td>9.591287</td><td>5.522397</td><td>18.33613</td><td>9.157022</td><td>19.73397</td><td>-1.601528</td><td>1.669952</td><td>2.927187</td><td>1.713424</td><td>3.155766</td><td>3.445201</td><td>-1.580159</td><td>3.202087</td><td>9.73223140323893</td><td>0.00960000045597553</td><td>2.16739392280579</td><td>-2.55261540412903</td><td>9.21</td><td>9.2</td><td>9.46</td><td>0.0</td><td>0.0</td><td>0.0</td><td>0.01</td></tr>\n",
       "<tr><td>19.90191</td><td>18.09789</td><td>17.26624</td><td>16.81353</td><td>16.49999</td><td>230.117006583752</td><td>7.91962126094432</td><td>0.04737807</td><td>1237662238559699173</td><td>1</td><td>3</td><td>1</td><td>2047010901361453056</td><td>3.151606</td><td>3.346088</td><td>9.00459</td><td>9.560251</td><td>71.70338</td><td>287.5388</td><td>2.903637</td><td>7723.571</td><td>0.5847952</td><td>1.785761</td><td>1.47943</td><td>1.891614</td><td>1.058998</td><td>4.14849</td><td>12.51197</td><td>4.241342</td><td>10.2847171088276</td><td>0.00769999995827675</td><td>8.18727207183838</td><td>-1.71574354171753</td><td>9.49</td><td>9.42</td><td>10.2</td><td>0.0</td><td>0.0</td><td>0.1</td><td>0.04</td></tr>\n",
       "<tr><td>17.55678</td><td>15.6935</td><td>14.80786</td><td>14.37943</td><td>14.04768</td><td>229.952270715335</td><td>7.64351458129482</td><td>0.04504822</td><td>1237662264323276903</td><td>1</td><td>3</td><td>1</td><td>2047022995989358592</td><td>0.0</td><td>0.0</td><td>0.0</td><td>0.0</td><td>678.1226</td><td>102.2245</td><td>0.0</td><td>0.0</td><td>-3.380143</td><td>6.269952</td><td>-2.422726</td><td>6.110695</td><td>-17.61811</td><td>17.30406</td><td>20.67467</td><td>17.34901</td><td>10.9303692902658</td><td>0.00769999995827675</td><td>2.90692257881165</td><td>-4.53546094894409</td><td>10.67</td><td>10.56</td><td>11.07</td><td>0.0</td><td>0.0</td><td>0.4</td><td>0.04</td></tr>\n",
       "<tr><td>19.57024</td><td>17.78923</td><td>16.93512</td><td>16.53202</td><td>16.2037</td><td>229.872501290654</td><td>7.75109488591342</td><td>0.04516993</td><td>1237662264323276989</td><td>1</td><td>3</td><td>1</td><td>2047000181123082240</td><td>10.66989</td><td>7.84012</td><td>30.4854</td><td>22.40034</td><td>241.8281</td><td>72.10158</td><td>3.767811</td><td>0.0</td><td>-12.11991</td><td>6.170697</td><td>11.65344</td><td>6.178532</td><td>-13.0267</td><td>29.32568</td><td>11.43088</td><td>29.37355</td><td>10.0179470964777</td><td>0.00769999995827675</td><td>2.30776882171631</td><td>-4.74274015426636</td><td>10.04</td><td>9.92</td><td>10.26</td><td>0.0</td><td>0.0</td><td>0.1</td><td>0.02</td></tr>\n",
       "<tr><td>19.17047</td><td>18.14644</td><td>17.69647</td><td>17.42855</td><td>17.20314</td><td>229.936938003302</td><td>7.62825612515211</td><td>0.0446186</td><td>1237662264323277094</td><td>1</td><td>3</td><td>1</td><td>2047020522088196096</td><td>11.33737</td><td>2.230657</td><td>32.39249</td><td>6.373305</td><td>138.5244</td><td>48.52168</td><td>27.40748</td><td>52.67923</td><td>4.923667</td><td>1.619061</td><td>16.66584</td><td>1.892921</td><td>42.28851</td><td>4.282047</td><td>32.43599</td><td>3.891867</td><td>9.49031511164631</td><td>0.0149999996647239</td><td>4.91619682312012</td><td>-0.953195512294769</td><td>8.92</td><td>8.89</td><td>9.41</td><td>0.3</td><td>0.2</td><td>0.4</td><td>0.01</td></tr>\n",
       "<tr><td>18.90591</td><td>17.05314</td><td>16.2181</td><td>15.82782</td><td>15.507</td><td>229.771334561352</td><td>7.8162410011935</td><td>0.04307929</td><td>1237662197747679590</td><td>1</td><td>3</td><td>1</td><td>2046999906245175296</td><td>2.990023</td><td>3.463459</td><td>8.542924</td><td>9.895597</td><td>14.14703</td><td>31.66019</td><td>20.10741</td><td>0.0</td><td>-16.29004</td><td>6.641646</td><td>17.26885</td><td>6.642982</td><td>-28.67618</td><td>29.57354</td><td>27.86299</td><td>29.62991</td><td>10.2304621802066</td><td>0.00769999995827675</td><td>2.24202561378479</td><td>-3.40160775184631</td><td>10.26</td><td>10.2</td><td>10.49</td><td>0.0</td><td>0.0</td><td>0.0</td><td>0.02</td></tr>\n",
       "</table></div>"
      ],
      "text/plain": [
       "<Table length=10>\n",
       "modelMag_u modelMag_g modelMag_r modelMag_i modelMag_z        ra              dec            z      ... Column1 minlogMass maxLogMass   SFR    minSFR  maxSFR Column2\n",
       " float64    float64    float64    float64    float64       float64          float64       float64   ... float64  float64    float64   float64 float64 float64 float64\n",
       "---------- ---------- ---------- ---------- ---------- ---------------- ---------------- ---------- ... ------- ---------- ---------- ------- ------- ------- -------\n",
       "  18.42497   16.46613   15.56528   15.14275    14.7951 229.956827905323 7.81281151181592  0.0425399 ...   10.49      10.44      10.82     0.0     0.0     0.1    0.04\n",
       "  18.42605   16.77179   15.95624   15.55291   15.22884 230.020449266655  7.8249640540335 0.04858921 ...    10.3       9.87       10.3     0.5     0.0     0.5    0.04\n",
       "  18.32344   16.41611   15.56927   15.17142   14.83763 230.073850709502 7.73458849981151 0.04826854 ...   10.48       10.4      10.82     0.0     0.0     0.0    0.04\n",
       "  19.23968   17.50391   16.67721   16.28032   15.96635  230.12442382008 7.74330536885284 0.04342559 ...   10.05       9.91       10.3     0.0     0.0     0.1    0.02\n",
       "    19.383   17.76669   17.02072   16.67171   16.38346 229.979520387313  7.8848999384746 0.04368504 ...    9.21        9.2       9.46     0.0     0.0     0.0    0.01\n",
       "  19.90191   18.09789   17.26624   16.81353   16.49999 230.117006583752 7.91962126094432 0.04737807 ...    9.49       9.42       10.2     0.0     0.0     0.1    0.04\n",
       "  17.55678    15.6935   14.80786   14.37943   14.04768 229.952270715335 7.64351458129482 0.04504822 ...   10.67      10.56      11.07     0.0     0.0     0.4    0.04\n",
       "  19.57024   17.78923   16.93512   16.53202    16.2037 229.872501290654 7.75109488591342 0.04516993 ...   10.04       9.92      10.26     0.0     0.0     0.1    0.02\n",
       "  19.17047   18.14644   17.69647   17.42855   17.20314 229.936938003302 7.62825612515211  0.0446186 ...    8.92       8.89       9.41     0.3     0.2     0.4    0.01\n",
       "  18.90591   17.05314    16.2181   15.82782     15.507 229.771334561352  7.8162410011935 0.04307929 ...   10.26       10.2      10.49     0.0     0.0     0.0    0.02"
      ]
     },
     "execution_count": 29,
     "metadata": {},
     "output_type": "execute_result"
    }
   ],
   "source": [
    "secondary_catalog[something[1]]"
   ]
  },
  {
   "cell_type": "code",
   "execution_count": 5,
   "id": "f4e199cc",
   "metadata": {},
   "outputs": [
    {
     "data": {
      "text/plain": [
       "209.0578808875126"
      ]
     },
     "execution_count": 5,
     "metadata": {},
     "output_type": "execute_result"
    }
   ],
   "source": [
    "sep * scale"
   ]
  },
  {
   "cell_type": "code",
   "execution_count": 6,
   "id": "abfbf8df",
   "metadata": {},
   "outputs": [
    {
     "data": {
      "text/plain": [
       "1731.0672104809892"
      ]
     },
     "execution_count": 6,
     "metadata": {},
     "output_type": "execute_result"
    }
   ],
   "source": [
    "rel_velocity"
   ]
  },
  {
   "cell_type": "code",
   "execution_count": 30,
   "id": "65ea6a20",
   "metadata": {},
   "outputs": [
    {
     "data": {
      "text/plain": [
       "128.62738506186437"
      ]
     },
     "execution_count": 30,
     "metadata": {},
     "output_type": "execute_result"
    }
   ],
   "source": [
    "150/(Planck18.kpc_comoving_per_arcmin(0.055).value/60.0)"
   ]
  },
  {
   "cell_type": "code",
   "execution_count": 13,
   "id": "52b2f1b3",
   "metadata": {},
   "outputs": [
    {
     "data": {
      "text/plain": [
       "11.665227175746203"
      ]
     },
     "execution_count": 13,
     "metadata": {},
     "output_type": "execute_result"
    }
   ],
   "source": [
    "150/Planck18.kpc_comoving_per_arcmin(0.01).value"
   ]
  },
  {
   "cell_type": "code",
   "execution_count": 7,
   "id": "d4fad409",
   "metadata": {},
   "outputs": [
    {
     "data": {
      "text/html": [
       "<i>Row index=0</i>\n",
       "<table id=\"table140131570102576\">\n",
       "<thead><tr><th>modelMag_u</th><th>modelMag_g</th><th>modelMag_r</th><th>modelMag_i</th><th>modelMag_z</th><th>ra</th><th>dec</th><th>z</th><th>ObjID</th><th>mode</th><th>type</th><th>clean</th><th>specObjID</th><th>Flux_OIII_4958</th><th>Flux_OIII_4958_Err</th><th>FLux_OIII_5006</th><th>FLux_OIII_5006_Err</th><th>Flux_OII_3726</th><th>Flux_OII_3726_Err</th><th>Flux_OII_3728</th><th>Flux_OII_3728_Err</th><th>oiii_4959_flux</th><th>oiii_4959_flux_err</th><th>oiii_5007_flux</th><th>oiii_5007_flux_err</th><th>oii_3729_flux</th><th>oii_3729_flux_err</th><th>oii_3726_flux</th><th>oii_3726_flux_err</th><th>logMass</th><th>metallicity</th><th>age</th><th>ssfr</th><th>Column1</th><th>minlogMass</th><th>maxLogMass</th><th>SFR</th><th>minSFR</th><th>maxSFR</th><th>Column2</th></tr></thead>\n",
       "<thead><tr><th>float64</th><th>float64</th><th>float64</th><th>float64</th><th>float64</th><th>float64</th><th>float64</th><th>float64</th><th>int64</th><th>int64</th><th>int64</th><th>int64</th><th>int64</th><th>float64</th><th>float64</th><th>float64</th><th>float64</th><th>float64</th><th>float64</th><th>float64</th><th>float64</th><th>float64</th><th>float64</th><th>float64</th><th>float64</th><th>float64</th><th>float64</th><th>float64</th><th>float64</th><th>float64</th><th>float64</th><th>float64</th><th>float64</th><th>float64</th><th>float64</th><th>float64</th><th>float64</th><th>float64</th><th>float64</th><th>float64</th></tr></thead>\n",
       "<tr><td>18.42497</td><td>16.46613</td><td>15.56528</td><td>15.14275</td><td>14.7951</td><td>229.956827905323</td><td>7.81281151181592</td><td>0.0425399</td><td>1237662197747745143</td><td>1</td><td>3</td><td>1</td><td>2046998256977733632</td><td>15.1694</td><td>5.202966</td><td>43.34115</td><td>14.86562</td><td>162.7156</td><td>8668.07</td><td>83.20232</td><td>12623.88</td><td>2.195039</td><td>3.944313</td><td>20.52398</td><td>4.17063</td><td>8.500624</td><td>6.295256</td><td>23.5517</td><td>6.658473</td><td>10.6245435100394</td><td>0.00769999995827675</td><td>3.41003704071045</td><td>-3.35963487625122</td><td>10.49</td><td>10.44</td><td>10.82</td><td>0.0</td><td>0.0</td><td>0.1</td><td>0.04</td></tr>\n",
       "</table>"
      ],
      "text/plain": [
       "<Row index=0>\n",
       "modelMag_u modelMag_g modelMag_r modelMag_i modelMag_z        ra              dec            z            ObjID         mode  type clean      specObjID      Flux_OIII_4958 Flux_OIII_4958_Err FLux_OIII_5006 FLux_OIII_5006_Err Flux_OII_3726 Flux_OII_3726_Err Flux_OII_3728 Flux_OII_3728_Err oiii_4959_flux oiii_4959_flux_err oiii_5007_flux oiii_5007_flux_err oii_3729_flux oii_3729_flux_err oii_3726_flux oii_3726_flux_err     logMass          metallicity           age               ssfr       Column1 minlogMass maxLogMass   SFR    minSFR  maxSFR Column2\n",
       " float64    float64    float64    float64    float64       float64          float64       float64         int64        int64 int64 int64        int64           float64          float64          float64          float64          float64         float64         float64         float64         float64          float64          float64          float64          float64         float64         float64         float64          float64            float64           float64           float64      float64  float64    float64   float64 float64 float64 float64\n",
       "---------- ---------- ---------- ---------- ---------- ---------------- ---------------- --------- ------------------- ----- ----- ----- ------------------- -------------- ------------------ -------------- ------------------ ------------- ----------------- ------------- ----------------- -------------- ------------------ -------------- ------------------ ------------- ----------------- ------------- ----------------- ---------------- ------------------- ---------------- ----------------- ------- ---------- ---------- ------- ------- ------- -------\n",
       "  18.42497   16.46613   15.56528   15.14275    14.7951 229.956827905323 7.81281151181592 0.0425399 1237662197747745143     1     3     1 2046998256977733632        15.1694           5.202966       43.34115           14.86562      162.7156           8668.07      83.20232          12623.88       2.195039           3.944313       20.52398            4.17063      8.500624          6.295256       23.5517          6.658473 10.6245435100394 0.00769999995827675 3.41003704071045 -3.35963487625122   10.49      10.44      10.82     0.0     0.0     0.1    0.04"
      ]
     },
     "execution_count": 7,
     "metadata": {},
     "output_type": "execute_result"
    }
   ],
   "source": [
    "each_primary"
   ]
  },
  {
   "cell_type": "code",
   "execution_count": 8,
   "id": "e435afcf",
   "metadata": {},
   "outputs": [],
   "source": [
    "dummy = SpectralCoord(4000, u.Angstrom, redshift=each_primary['z'])\n",
    "dummy2 = SpectralCoord(4000, u.Angstrom, redshift=each_secondary['z'])"
   ]
  },
  {
   "cell_type": "code",
   "execution_count": 14,
   "id": "df894c84",
   "metadata": {},
   "outputs": [
    {
     "data": {
      "text/plain": [
       "1731.0672104809892"
      ]
     },
     "execution_count": 14,
     "metadata": {},
     "output_type": "execute_result"
    }
   ],
   "source": [
    "np.abs(dummy.radial_velocity.value - dummy2.radial_velocity.value)"
   ]
  },
  {
   "cell_type": "code",
   "execution_count": 19,
   "id": "4eb9f4bb",
   "metadata": {},
   "outputs": [
    {
     "data": {
      "text/latex": [
       "$1813.5375 \\; \\mathrm{\\frac{m}{s}}$"
      ],
      "text/plain": [
       "<Quantity 1813.5375141 m / s>"
      ]
     },
     "execution_count": 19,
     "metadata": {},
     "output_type": "execute_result"
    }
   ],
   "source": [
    "np.abs(each_primary['z'] - each_secondary['z']) * speed_of_light/1000"
   ]
  },
  {
   "cell_type": "code",
   "execution_count": 17,
   "id": "c89ae809",
   "metadata": {},
   "outputs": [],
   "source": [
    "from astropy.constants import c as speed_of_light"
   ]
  },
  {
   "cell_type": "code",
   "execution_count": null,
   "id": "a3f21ae4",
   "metadata": {},
   "outputs": [],
   "source": []
  }
 ],
 "metadata": {
  "kernelspec": {
   "display_name": "Python 3 (ipykernel)",
   "language": "python",
   "name": "python3"
  },
  "language_info": {
   "codemirror_mode": {
    "name": "ipython",
    "version": 3
   },
   "file_extension": ".py",
   "mimetype": "text/x-python",
   "name": "python",
   "nbconvert_exporter": "python",
   "pygments_lexer": "ipython3",
   "version": "3.8.10"
  }
 },
 "nbformat": 4,
 "nbformat_minor": 5
}
